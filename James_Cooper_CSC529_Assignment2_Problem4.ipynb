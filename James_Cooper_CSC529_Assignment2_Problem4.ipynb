{
 "cells": [
  {
   "cell_type": "markdown",
   "metadata": {},
   "source": [
    "### James Cooper | CSC 529 | Assignment 2"
   ]
  },
  {
   "cell_type": "markdown",
   "metadata": {},
   "source": [
    "### Problem 4: "
   ]
  },
  {
   "cell_type": "markdown",
   "metadata": {},
   "source": [
    "#### The breast cancer Wisconsin dataset consists of 569 instances and 32 features.  The class variable represents diagnosis (M=malignant, B=benign) and the features are computed from a digitized image of a fine needle aspirate (FNA) of a breast mass. They describe characteristics of the cell nuclei present in the image. For the entire description of the dataset and download, use the following link: http://archive.ics.uci.edu/ml/machine-learning-databases/breast-cancer-wisconsin/wdbc.names\n",
    "\n",
    "#### a. Model the diagnosis using ensemble learning based on bagging (with decision trees as learners) and plot the error rate as a function of the number of trees in the ensemble.  Perform an analysis of your results."
   ]
  },
  {
   "cell_type": "code",
   "execution_count": 1,
   "metadata": {},
   "outputs": [
    {
     "name": "stdout",
     "output_type": "stream",
     "text": [
      "C:\\Users\\James Cooper\\Desktop\\DePaul\\Advanced Data Mining\\Homework2\n"
     ]
    }
   ],
   "source": [
    "cd \"C:/Users/James Cooper/Desktop/DePaul/Advanced Data Mining/Homework2\""
   ]
  },
  {
   "cell_type": "code",
   "execution_count": 6,
   "metadata": {},
   "outputs": [
    {
     "name": "stdout",
     "output_type": "stream",
     "text": [
      "Populating the interactive namespace from numpy and matplotlib\n"
     ]
    }
   ],
   "source": [
    "import numpy as np\n",
    "import pandas as pd\n",
    "import matplotlib.pyplot as plt\n",
    "%matplotlib inline\n",
    "%pylab inline\n",
    "import seaborn as sns\n",
    "from sklearn import preprocessing\n",
    "from sklearn.tree import DecisionTreeClassifier\n",
    "from sklearn import metrics\n",
    "from sklearn import tree\n",
    "from sklearn.metrics import accuracy_score"
   ]
  },
  {
   "cell_type": "code",
   "execution_count": 17,
   "metadata": {},
   "outputs": [
    {
     "data": {
      "text/html": [
       "<div>\n",
       "<style>\n",
       "    .dataframe thead tr:only-child th {\n",
       "        text-align: right;\n",
       "    }\n",
       "\n",
       "    .dataframe thead th {\n",
       "        text-align: left;\n",
       "    }\n",
       "\n",
       "    .dataframe tbody tr th {\n",
       "        vertical-align: top;\n",
       "    }\n",
       "</style>\n",
       "<table border=\"1\" class=\"dataframe\">\n",
       "  <thead>\n",
       "    <tr style=\"text-align: right;\">\n",
       "      <th></th>\n",
       "      <th>id</th>\n",
       "      <th>diagnosis</th>\n",
       "      <th>radius_mean</th>\n",
       "      <th>texture_mean</th>\n",
       "      <th>perimeter_mean</th>\n",
       "      <th>area_mean</th>\n",
       "      <th>smoothness_mean</th>\n",
       "      <th>compactness_mean</th>\n",
       "      <th>concavity_mean</th>\n",
       "      <th>concave points_mean</th>\n",
       "      <th>...</th>\n",
       "      <th>radius_worst</th>\n",
       "      <th>texture_worst</th>\n",
       "      <th>perimeter_worst</th>\n",
       "      <th>area_worst</th>\n",
       "      <th>smoothness_worst</th>\n",
       "      <th>compactness_worst</th>\n",
       "      <th>concavity_worst</th>\n",
       "      <th>concave points_worst</th>\n",
       "      <th>symmetry_worst</th>\n",
       "      <th>fractal_dimension_worst</th>\n",
       "    </tr>\n",
       "  </thead>\n",
       "  <tbody>\n",
       "    <tr>\n",
       "      <th>0</th>\n",
       "      <td>842302</td>\n",
       "      <td>0</td>\n",
       "      <td>17.99</td>\n",
       "      <td>10.38</td>\n",
       "      <td>122.80</td>\n",
       "      <td>1001.0</td>\n",
       "      <td>0.11840</td>\n",
       "      <td>0.27760</td>\n",
       "      <td>0.3001</td>\n",
       "      <td>0.14710</td>\n",
       "      <td>...</td>\n",
       "      <td>25.38</td>\n",
       "      <td>17.33</td>\n",
       "      <td>184.60</td>\n",
       "      <td>2019.0</td>\n",
       "      <td>0.1622</td>\n",
       "      <td>0.6656</td>\n",
       "      <td>0.7119</td>\n",
       "      <td>0.2654</td>\n",
       "      <td>0.4601</td>\n",
       "      <td>0.11890</td>\n",
       "    </tr>\n",
       "    <tr>\n",
       "      <th>1</th>\n",
       "      <td>842517</td>\n",
       "      <td>0</td>\n",
       "      <td>20.57</td>\n",
       "      <td>17.77</td>\n",
       "      <td>132.90</td>\n",
       "      <td>1326.0</td>\n",
       "      <td>0.08474</td>\n",
       "      <td>0.07864</td>\n",
       "      <td>0.0869</td>\n",
       "      <td>0.07017</td>\n",
       "      <td>...</td>\n",
       "      <td>24.99</td>\n",
       "      <td>23.41</td>\n",
       "      <td>158.80</td>\n",
       "      <td>1956.0</td>\n",
       "      <td>0.1238</td>\n",
       "      <td>0.1866</td>\n",
       "      <td>0.2416</td>\n",
       "      <td>0.1860</td>\n",
       "      <td>0.2750</td>\n",
       "      <td>0.08902</td>\n",
       "    </tr>\n",
       "    <tr>\n",
       "      <th>2</th>\n",
       "      <td>84300903</td>\n",
       "      <td>0</td>\n",
       "      <td>19.69</td>\n",
       "      <td>21.25</td>\n",
       "      <td>130.00</td>\n",
       "      <td>1203.0</td>\n",
       "      <td>0.10960</td>\n",
       "      <td>0.15990</td>\n",
       "      <td>0.1974</td>\n",
       "      <td>0.12790</td>\n",
       "      <td>...</td>\n",
       "      <td>23.57</td>\n",
       "      <td>25.53</td>\n",
       "      <td>152.50</td>\n",
       "      <td>1709.0</td>\n",
       "      <td>0.1444</td>\n",
       "      <td>0.4245</td>\n",
       "      <td>0.4504</td>\n",
       "      <td>0.2430</td>\n",
       "      <td>0.3613</td>\n",
       "      <td>0.08758</td>\n",
       "    </tr>\n",
       "    <tr>\n",
       "      <th>3</th>\n",
       "      <td>84348301</td>\n",
       "      <td>0</td>\n",
       "      <td>11.42</td>\n",
       "      <td>20.38</td>\n",
       "      <td>77.58</td>\n",
       "      <td>386.1</td>\n",
       "      <td>0.14250</td>\n",
       "      <td>0.28390</td>\n",
       "      <td>0.2414</td>\n",
       "      <td>0.10520</td>\n",
       "      <td>...</td>\n",
       "      <td>14.91</td>\n",
       "      <td>26.50</td>\n",
       "      <td>98.87</td>\n",
       "      <td>567.7</td>\n",
       "      <td>0.2098</td>\n",
       "      <td>0.8663</td>\n",
       "      <td>0.6869</td>\n",
       "      <td>0.2575</td>\n",
       "      <td>0.6638</td>\n",
       "      <td>0.17300</td>\n",
       "    </tr>\n",
       "    <tr>\n",
       "      <th>4</th>\n",
       "      <td>84358402</td>\n",
       "      <td>0</td>\n",
       "      <td>20.29</td>\n",
       "      <td>14.34</td>\n",
       "      <td>135.10</td>\n",
       "      <td>1297.0</td>\n",
       "      <td>0.10030</td>\n",
       "      <td>0.13280</td>\n",
       "      <td>0.1980</td>\n",
       "      <td>0.10430</td>\n",
       "      <td>...</td>\n",
       "      <td>22.54</td>\n",
       "      <td>16.67</td>\n",
       "      <td>152.20</td>\n",
       "      <td>1575.0</td>\n",
       "      <td>0.1374</td>\n",
       "      <td>0.2050</td>\n",
       "      <td>0.4000</td>\n",
       "      <td>0.1625</td>\n",
       "      <td>0.2364</td>\n",
       "      <td>0.07678</td>\n",
       "    </tr>\n",
       "  </tbody>\n",
       "</table>\n",
       "<p>5 rows × 32 columns</p>\n",
       "</div>"
      ],
      "text/plain": [
       "         id  diagnosis  radius_mean  texture_mean  perimeter_mean  area_mean  \\\n",
       "0    842302          0        17.99         10.38          122.80     1001.0   \n",
       "1    842517          0        20.57         17.77          132.90     1326.0   \n",
       "2  84300903          0        19.69         21.25          130.00     1203.0   \n",
       "3  84348301          0        11.42         20.38           77.58      386.1   \n",
       "4  84358402          0        20.29         14.34          135.10     1297.0   \n",
       "\n",
       "   smoothness_mean  compactness_mean  concavity_mean  concave points_mean  \\\n",
       "0          0.11840           0.27760          0.3001              0.14710   \n",
       "1          0.08474           0.07864          0.0869              0.07017   \n",
       "2          0.10960           0.15990          0.1974              0.12790   \n",
       "3          0.14250           0.28390          0.2414              0.10520   \n",
       "4          0.10030           0.13280          0.1980              0.10430   \n",
       "\n",
       "            ...             radius_worst  texture_worst  perimeter_worst  \\\n",
       "0           ...                    25.38          17.33           184.60   \n",
       "1           ...                    24.99          23.41           158.80   \n",
       "2           ...                    23.57          25.53           152.50   \n",
       "3           ...                    14.91          26.50            98.87   \n",
       "4           ...                    22.54          16.67           152.20   \n",
       "\n",
       "   area_worst  smoothness_worst  compactness_worst  concavity_worst  \\\n",
       "0      2019.0            0.1622             0.6656           0.7119   \n",
       "1      1956.0            0.1238             0.1866           0.2416   \n",
       "2      1709.0            0.1444             0.4245           0.4504   \n",
       "3       567.7            0.2098             0.8663           0.6869   \n",
       "4      1575.0            0.1374             0.2050           0.4000   \n",
       "\n",
       "   concave points_worst  symmetry_worst  fractal_dimension_worst  \n",
       "0                0.2654          0.4601                  0.11890  \n",
       "1                0.1860          0.2750                  0.08902  \n",
       "2                0.2430          0.3613                  0.08758  \n",
       "3                0.2575          0.6638                  0.17300  \n",
       "4                0.1625          0.2364                  0.07678  \n",
       "\n",
       "[5 rows x 32 columns]"
      ]
     },
     "execution_count": 17,
     "metadata": {},
     "output_type": "execute_result"
    }
   ],
   "source": [
    "dat4 = pd.read_csv(\"bcdata_num.csv\", sep=',')\n",
    "dat4.head()"
   ]
  },
  {
   "cell_type": "code",
   "execution_count": 19,
   "metadata": {},
   "outputs": [],
   "source": [
    "data_4 = dat4.drop('diagnosis', 1).values\n",
    "classes_4 = dat4['diagnosis'].astype('int').values"
   ]
  },
  {
   "cell_type": "code",
   "execution_count": 30,
   "metadata": {
    "collapsed": true
   },
   "outputs": [],
   "source": [
    "from sklearn.tree import DecisionTreeClassifier\n",
    "from sklearn.ensemble import BaggingClassifier\n",
    "from sklearn import model_selection\n",
    "from sklearn.metrics import accuracy_score"
   ]
  },
  {
   "cell_type": "code",
   "execution_count": 33,
   "metadata": {
    "collapsed": true
   },
   "outputs": [],
   "source": [
    "from sklearn.cross_validation import train_test_split\n",
    "X_train, X_test, y_train, y_test = train_test_split(data_4, classes_4, test_size = 0.34, random_state = 123)"
   ]
  },
  {
   "cell_type": "code",
   "execution_count": 34,
   "metadata": {},
   "outputs": [
    {
     "name": "stdout",
     "output_type": "stream",
     "text": [
      "[1 1 0 1 0 1 1 1 1 1 1 0 0 1 0 1 1 1 1 1 0 0 1 1 1 0 0 1 0 1 1 1 1 1 0 1 1\n",
      " 1 1 0 0 1 0 1 0 1 0 0 0 0 0 0 1 1 1 0 1 0 0 1 0 1 1 1 1 0 1 1 1 0 1 1 0 1\n",
      " 0 1 1 0 0 0 1 0 0 1 1 1 0 1 0 1 0 1 1 0 1 1 1 1 1 1 1 1 1 1 1 1 1 1 1 1 1\n",
      " 1 1 0 0 0 1 0 1 1 1 1 1 1 0 1 0 0 1 1 0 1 1 0 0 1 1 1 0 0 0 1 0 1 0 1 0 0\n",
      " 1 0 1 0 1 1 0 1 0 0 0 1 1 1 0 0 1 1 1 0 0 0 0 1 1 0 1 0 1 1 0 1 1 0 1 1 0\n",
      " 0 1 0 0 1 0 1 0 1]\n",
      "\n",
      "\n",
      "[ 0  0  0  0  0  0  0  1  0  0  0  0  0  0  0  0  0  0  0  0  0  0  0  0  0\n",
      "  0  0  0  0  0  1  0  0  0  0  0  0  0  0  0  0  0  0  0  0  0  0  0  0  0\n",
      "  0  0  0  0  0  0  0  0  0  0  0  0  0  0  0  0  0  0  0  0  0  0  0  0  0\n",
      "  0  0  0  0  0  0  0  0  0  0  0  0  0  0  0  0  0  0  0  0  0  0  0  0  0\n",
      "  0  0  0  0  0  0  0  0  0  0  0  0  0  0  0  0  0  0  0  0  0  0  0  0  0\n",
      "  0  0  0  0  0  0  0  0  0  0  0  0  0  0  0  0  0  0  0  0  0  0  0  0  0\n",
      "  0  0  0  0  0  0  0  0  0  0  0  0  0 -1  0  0  0  0  0  0  0  0  0  0  0\n",
      "  0  0  0  0  0  0  0  0  0  0  0  0  0  0  0  0  0  0  0]\n",
      "\n",
      "\n",
      "0.984536082474\n"
     ]
    }
   ],
   "source": [
    "bg = BaggingClassifier(DecisionTreeClassifier(), n_estimators=30)\n",
    "bg.fit(X_train, y_train)\n",
    "predict_bg = bg.predict(X_test)\n",
    "print predict_bg\n",
    "print\"\\n\"\n",
    "print predict_bg - y_test\n",
    "print \"\\n\"\n",
    "print accuracy_score(predict_bg, y_test)"
   ]
  },
  {
   "cell_type": "code",
   "execution_count": 65,
   "metadata": {
    "collapsed": true
   },
   "outputs": [],
   "source": [
    "from sklearn.metrics import mean_squared_error\n",
    "random_state = 42\n",
    "n_jobs = 1  \n",
    "n_estimators = 100\n",
    "step_factor = 1\n",
    "axis_step = int(n_estimators/step_factor)\n",
    "estimators = np.zeros(axis_step)\n",
    "bagging_mse_train = np.zeros(axis_step)"
   ]
  },
  {
   "cell_type": "code",
   "execution_count": 66,
   "metadata": {},
   "outputs": [
    {
     "name": "stdout",
     "output_type": "stream",
     "text": [
      "Bagging Estimator: 1 of 100...\n",
      "Bagging Estimator: 2 of 100...\n",
      "Bagging Estimator: 3 of 100...\n",
      "Bagging Estimator: 4 of 100...\n",
      "Bagging Estimator: 5 of 100...\n",
      "Bagging Estimator: 6 of 100...\n",
      "Bagging Estimator: 7 of 100...\n",
      "Bagging Estimator: 8 of 100...\n",
      "Bagging Estimator: 9 of 100...\n",
      "Bagging Estimator: 10 of 100...\n",
      "Bagging Estimator: 11 of 100...\n",
      "Bagging Estimator: 12 of 100...\n",
      "Bagging Estimator: 13 of 100...\n",
      "Bagging Estimator: 14 of 100...\n",
      "Bagging Estimator: 15 of 100...\n",
      "Bagging Estimator: 16 of 100...\n",
      "Bagging Estimator: 17 of 100...\n",
      "Bagging Estimator: 18 of 100...\n",
      "Bagging Estimator: 19 of 100...\n",
      "Bagging Estimator: 20 of 100...\n",
      "Bagging Estimator: 21 of 100...\n",
      "Bagging Estimator: 22 of 100...\n",
      "Bagging Estimator: 23 of 100...\n",
      "Bagging Estimator: 24 of 100...\n",
      "Bagging Estimator: 25 of 100...\n",
      "Bagging Estimator: 26 of 100...\n",
      "Bagging Estimator: 27 of 100...\n",
      "Bagging Estimator: 28 of 100...\n",
      "Bagging Estimator: 29 of 100...\n",
      "Bagging Estimator: 30 of 100...\n",
      "Bagging Estimator: 31 of 100...\n",
      "Bagging Estimator: 32 of 100...\n",
      "Bagging Estimator: 33 of 100...\n",
      "Bagging Estimator: 34 of 100...\n",
      "Bagging Estimator: 35 of 100...\n",
      "Bagging Estimator: 36 of 100...\n",
      "Bagging Estimator: 37 of 100...\n",
      "Bagging Estimator: 38 of 100...\n",
      "Bagging Estimator: 39 of 100...\n",
      "Bagging Estimator: 40 of 100...\n",
      "Bagging Estimator: 41 of 100...\n",
      "Bagging Estimator: 42 of 100...\n",
      "Bagging Estimator: 43 of 100...\n",
      "Bagging Estimator: 44 of 100...\n",
      "Bagging Estimator: 45 of 100...\n",
      "Bagging Estimator: 46 of 100...\n",
      "Bagging Estimator: 47 of 100...\n",
      "Bagging Estimator: 48 of 100...\n",
      "Bagging Estimator: 49 of 100...\n",
      "Bagging Estimator: 50 of 100...\n",
      "Bagging Estimator: 51 of 100...\n",
      "Bagging Estimator: 52 of 100...\n",
      "Bagging Estimator: 53 of 100...\n",
      "Bagging Estimator: 54 of 100...\n",
      "Bagging Estimator: 55 of 100...\n",
      "Bagging Estimator: 56 of 100...\n",
      "Bagging Estimator: 57 of 100...\n",
      "Bagging Estimator: 58 of 100...\n",
      "Bagging Estimator: 59 of 100...\n",
      "Bagging Estimator: 60 of 100...\n",
      "Bagging Estimator: 61 of 100...\n",
      "Bagging Estimator: 62 of 100...\n",
      "Bagging Estimator: 63 of 100...\n",
      "Bagging Estimator: 64 of 100...\n",
      "Bagging Estimator: 65 of 100...\n",
      "Bagging Estimator: 66 of 100...\n",
      "Bagging Estimator: 67 of 100...\n",
      "Bagging Estimator: 68 of 100...\n",
      "Bagging Estimator: 69 of 100...\n",
      "Bagging Estimator: 70 of 100...\n",
      "Bagging Estimator: 71 of 100...\n",
      "Bagging Estimator: 72 of 100...\n",
      "Bagging Estimator: 73 of 100...\n",
      "Bagging Estimator: 74 of 100...\n",
      "Bagging Estimator: 75 of 100...\n",
      "Bagging Estimator: 76 of 100...\n",
      "Bagging Estimator: 77 of 100...\n",
      "Bagging Estimator: 78 of 100...\n",
      "Bagging Estimator: 79 of 100...\n",
      "Bagging Estimator: 80 of 100...\n",
      "Bagging Estimator: 81 of 100...\n",
      "Bagging Estimator: 82 of 100...\n",
      "Bagging Estimator: 83 of 100...\n",
      "Bagging Estimator: 84 of 100...\n",
      "Bagging Estimator: 85 of 100...\n",
      "Bagging Estimator: 86 of 100...\n",
      "Bagging Estimator: 87 of 100...\n",
      "Bagging Estimator: 88 of 100...\n",
      "Bagging Estimator: 89 of 100...\n",
      "Bagging Estimator: 90 of 100...\n",
      "Bagging Estimator: 91 of 100...\n",
      "Bagging Estimator: 92 of 100...\n",
      "Bagging Estimator: 93 of 100...\n",
      "Bagging Estimator: 94 of 100...\n",
      "Bagging Estimator: 95 of 100...\n",
      "Bagging Estimator: 96 of 100...\n",
      "Bagging Estimator: 97 of 100...\n",
      "Bagging Estimator: 98 of 100...\n",
      "Bagging Estimator: 99 of 100...\n",
      "Bagging Estimator: 100 of 100...\n"
     ]
    }
   ],
   "source": [
    "for i in range(0, axis_step):\n",
    "    print(\"Bagging Estimator: %d of %d...\" % (\n",
    "        step_factor*(i+1), n_estimators)\n",
    "    )\n",
    "    bagging = BaggingClassifier(\n",
    "        DecisionTreeClassifier(),\n",
    "        n_estimators=step_factor*(i+1),\n",
    "        random_state=random_state\n",
    "    )\n",
    "    bagging.fit(X_train, y_train)\n",
    "    mse_train = mean_squared_error(y_train, bagging.predict(X_train))\n",
    "    estimators[i] = step_factor*(i+1)\n",
    "    bagging_mse_train[i] = mse_train"
   ]
  },
  {
   "cell_type": "code",
   "execution_count": 60,
   "metadata": {},
   "outputs": [
    {
     "data": {
      "image/png": "[encoded data removed]",
      "text/plain": [
       "<matplotlib.figure.Figure at 0x1f6b8390>"
      ]
     },
     "metadata": {},
     "output_type": "display_data"
    }
   ],
   "source": [
    "plt.figure(figsize=(8, 8))\n",
    "plt.title('Bagging Decision Tree Accuracy on Training Set')\n",
    "plt.plot(estimators, bagging_mse, 'b-', color='red', label='Bagging')\n",
    "plt.legend(loc='upper right')\n",
    "plt.xlabel('Estimators')\n",
    "plt.ylabel('Mean Squared Error')\n",
    "plt.show()"
   ]
  },
  {
   "cell_type": "code",
   "execution_count": 67,
   "metadata": {
    "collapsed": true
   },
   "outputs": [],
   "source": [
    "random_state = 43\n",
    "axis_step = int(n_estimators/step_factor)\n",
    "estimators = np.zeros(axis_step)\n",
    "bagging_mse_test = np.zeros(axis_step)"
   ]
  },
  {
   "cell_type": "code",
   "execution_count": 68,
   "metadata": {},
   "outputs": [
    {
     "name": "stdout",
     "output_type": "stream",
     "text": [
      "Bagging Estimator: 1 of 100...\n",
      "Bagging Estimator: 2 of 100...\n",
      "Bagging Estimator: 3 of 100...\n",
      "Bagging Estimator: 4 of 100...\n",
      "Bagging Estimator: 5 of 100...\n",
      "Bagging Estimator: 6 of 100...\n",
      "Bagging Estimator: 7 of 100...\n",
      "Bagging Estimator: 8 of 100...\n",
      "Bagging Estimator: 9 of 100...\n",
      "Bagging Estimator: 10 of 100...\n",
      "Bagging Estimator: 11 of 100...\n",
      "Bagging Estimator: 12 of 100...\n",
      "Bagging Estimator: 13 of 100...\n",
      "Bagging Estimator: 14 of 100...\n",
      "Bagging Estimator: 15 of 100...\n",
      "Bagging Estimator: 16 of 100...\n",
      "Bagging Estimator: 17 of 100...\n",
      "Bagging Estimator: 18 of 100...\n",
      "Bagging Estimator: 19 of 100...\n",
      "Bagging Estimator: 20 of 100...\n",
      "Bagging Estimator: 21 of 100...\n",
      "Bagging Estimator: 22 of 100...\n",
      "Bagging Estimator: 23 of 100...\n",
      "Bagging Estimator: 24 of 100...\n",
      "Bagging Estimator: 25 of 100...\n",
      "Bagging Estimator: 26 of 100...\n",
      "Bagging Estimator: 27 of 100...\n",
      "Bagging Estimator: 28 of 100...\n",
      "Bagging Estimator: 29 of 100...\n",
      "Bagging Estimator: 30 of 100...\n",
      "Bagging Estimator: 31 of 100...\n",
      "Bagging Estimator: 32 of 100...\n",
      "Bagging Estimator: 33 of 100...\n",
      "Bagging Estimator: 34 of 100...\n",
      "Bagging Estimator: 35 of 100...\n",
      "Bagging Estimator: 36 of 100...\n",
      "Bagging Estimator: 37 of 100...\n",
      "Bagging Estimator: 38 of 100...\n",
      "Bagging Estimator: 39 of 100...\n",
      "Bagging Estimator: 40 of 100...\n",
      "Bagging Estimator: 41 of 100...\n",
      "Bagging Estimator: 42 of 100...\n",
      "Bagging Estimator: 43 of 100...\n",
      "Bagging Estimator: 44 of 100...\n",
      "Bagging Estimator: 45 of 100...\n",
      "Bagging Estimator: 46 of 100...\n",
      "Bagging Estimator: 47 of 100...\n",
      "Bagging Estimator: 48 of 100...\n",
      "Bagging Estimator: 49 of 100...\n",
      "Bagging Estimator: 50 of 100...\n",
      "Bagging Estimator: 51 of 100...\n",
      "Bagging Estimator: 52 of 100...\n",
      "Bagging Estimator: 53 of 100...\n",
      "Bagging Estimator: 54 of 100...\n",
      "Bagging Estimator: 55 of 100...\n",
      "Bagging Estimator: 56 of 100...\n",
      "Bagging Estimator: 57 of 100...\n",
      "Bagging Estimator: 58 of 100...\n",
      "Bagging Estimator: 59 of 100...\n",
      "Bagging Estimator: 60 of 100...\n",
      "Bagging Estimator: 61 of 100...\n",
      "Bagging Estimator: 62 of 100...\n",
      "Bagging Estimator: 63 of 100...\n",
      "Bagging Estimator: 64 of 100...\n",
      "Bagging Estimator: 65 of 100...\n",
      "Bagging Estimator: 66 of 100...\n",
      "Bagging Estimator: 67 of 100...\n",
      "Bagging Estimator: 68 of 100...\n",
      "Bagging Estimator: 69 of 100...\n",
      "Bagging Estimator: 70 of 100...\n",
      "Bagging Estimator: 71 of 100...\n",
      "Bagging Estimator: 72 of 100...\n",
      "Bagging Estimator: 73 of 100...\n",
      "Bagging Estimator: 74 of 100...\n",
      "Bagging Estimator: 75 of 100...\n",
      "Bagging Estimator: 76 of 100...\n",
      "Bagging Estimator: 77 of 100...\n",
      "Bagging Estimator: 78 of 100...\n",
      "Bagging Estimator: 79 of 100...\n",
      "Bagging Estimator: 80 of 100...\n",
      "Bagging Estimator: 81 of 100...\n",
      "Bagging Estimator: 82 of 100...\n",
      "Bagging Estimator: 83 of 100...\n",
      "Bagging Estimator: 84 of 100...\n",
      "Bagging Estimator: 85 of 100...\n",
      "Bagging Estimator: 86 of 100...\n",
      "Bagging Estimator: 87 of 100...\n",
      "Bagging Estimator: 88 of 100...\n",
      "Bagging Estimator: 89 of 100...\n",
      "Bagging Estimator: 90 of 100...\n",
      "Bagging Estimator: 91 of 100...\n",
      "Bagging Estimator: 92 of 100...\n",
      "Bagging Estimator: 93 of 100...\n",
      "Bagging Estimator: 94 of 100...\n",
      "Bagging Estimator: 95 of 100...\n",
      "Bagging Estimator: 96 of 100...\n",
      "Bagging Estimator: 97 of 100...\n",
      "Bagging Estimator: 98 of 100...\n",
      "Bagging Estimator: 99 of 100...\n",
      "Bagging Estimator: 100 of 100...\n"
     ]
    }
   ],
   "source": [
    "for i in range(0, axis_step):\n",
    "    print(\"Bagging Estimator: %d of %d...\" % (\n",
    "        step_factor*(i+1), n_estimators)\n",
    "    )\n",
    "    bagging = BaggingClassifier(\n",
    "        DecisionTreeClassifier(),\n",
    "        n_estimators=step_factor*(i+1),\n",
    "        #n_jobs=n_jobs,\n",
    "        random_state=random_state\n",
    "    )\n",
    "    bagging.fit(X_train, y_train)\n",
    "    mse_test = mean_squared_error(y_test, bagging.predict(X_test))\n",
    "    estimators[i] = step_factor*(i+1)\n",
    "    bagging_mse_test[i] = mse_test"
   ]
  },
  {
   "cell_type": "code",
   "execution_count": 70,
   "metadata": {},
   "outputs": [
    {
     "data": {
      "image/png": "[encoded data removed]",
      "text/plain": [
       "<matplotlib.figure.Figure at 0x1f9d78d0>"
      ]
     },
     "metadata": {},
     "output_type": "display_data"
    }
   ],
   "source": [
    "plt.figure(figsize=(8, 8))\n",
    "plt.title('Bagging Decision Tree Accuracy on Testing Set')\n",
    "plt.plot(estimators, bagging_mse_test, 'b-', color='red', label='Bagging')\n",
    "plt.legend(loc='upper right')\n",
    "plt.xlabel('Estimators')\n",
    "plt.ylabel('Mean Squared Error')\n",
    "plt.show()"
   ]
  },
  {
   "cell_type": "markdown",
   "metadata": {},
   "source": [
    "#### b.\tExplain if bagging is an appropriate choice for the proposed ensemble for this particular data."
   ]
  },
  {
   "cell_type": "markdown",
   "metadata": {},
   "source": [
    "Yes bagging is definitely an appropriate choice for this algorithm, we can see that the Decision Tree is very unstable. The tree begins with a higher error on both the training and testing sets. Bagging reduces the overall expected error due to the fact that it is combining outputs here and randomly resamples the data. This allows for the algorithm to learn and predict on the data independently and \"vote\" on the average, best parameters."
   ]
  },
  {
   "cell_type": "markdown",
   "metadata": {},
   "source": [
    "#### c. Briefly describe the differences between bagging and boosting."
   ]
  },
  {
   "cell_type": "markdown",
   "metadata": {},
   "source": [
    "Bagging creates ensembles of the classifier you are passing to it, so are using a decision tree on some data, bagging will run the x amount of decision trees specified and trains the data by drawing independent samples each time. Bagging then uses the best aggregated model to predict the classes. Boosting goes a step further and adds weights to each model, thereby assigning better weights to better models."
   ]
  }
 ],
 "metadata": {
  "kernelspec": {
   "display_name": "Python 2",
   "language": "python",
   "name": "python2"
  },
  "language_info": {
   "codemirror_mode": {
    "name": "ipython",
    "version": 2
   },
   "file_extension": ".py",
   "mimetype": "text/x-python",
   "name": "python",
   "nbconvert_exporter": "python",
   "pygments_lexer": "ipython2",
   "version": "2.7.13"
  }
 },
 "nbformat": 4,
 "nbformat_minor": 2
}
