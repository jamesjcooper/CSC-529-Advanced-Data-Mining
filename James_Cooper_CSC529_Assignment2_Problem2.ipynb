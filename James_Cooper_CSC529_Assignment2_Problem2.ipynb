{
 "cells": [
  {
   "cell_type": "markdown",
   "metadata": {},
   "source": [
    "### James Cooper | CSC 529 | Assignment 2"
   ]
  },
  {
   "cell_type": "markdown",
   "metadata": {},
   "source": [
    "### Problem 2"
   ]
  },
  {
   "cell_type": "code",
   "execution_count": 1,
   "metadata": {},
   "outputs": [
    {
     "name": "stdout",
     "output_type": "stream",
     "text": [
      "C:\\Users\\James Cooper\\Desktop\\DePaul\\Advanced Data Mining\\Homework2\n"
     ]
    }
   ],
   "source": [
    "cd \"C:/Users/James Cooper/Desktop/DePaul/Advanced Data Mining/Homework2\""
   ]
  },
  {
   "cell_type": "code",
   "execution_count": 74,
   "metadata": {},
   "outputs": [
    {
     "name": "stdout",
     "output_type": "stream",
     "text": [
      "Populating the interactive namespace from numpy and matplotlib\n"
     ]
    }
   ],
   "source": [
    "import numpy as np\n",
    "import pandas as pd\n",
    "import matplotlib.pyplot as plt\n",
    "%matplotlib inline\n",
    "%pylab inline\n",
    "import seaborn as sns\n",
    "from sklearn import preprocessing\n",
    "from sklearn.tree import DecisionTreeClassifier\n",
    "from sklearn import metrics\n",
    "from sklearn import tree\n",
    "from sklearn import naive_bayes\n",
    "bclassifier = naive_bayes.GaussianNB()\n",
    "from sklearn.metrics import accuracy_score"
   ]
  },
  {
   "cell_type": "code",
   "execution_count": 42,
   "metadata": {
    "collapsed": true
   },
   "outputs": [],
   "source": [
    "dat = pd.read_csv(\"Wine_data.csv\", sep=',')"
   ]
  },
  {
   "cell_type": "code",
   "execution_count": 8,
   "metadata": {
    "collapsed": true
   },
   "outputs": [],
   "source": [
    "data_2 = dat.drop('Classes', 1).values\n",
    "classes_2 = dat['Classes'].astype('int').values"
   ]
  },
  {
   "cell_type": "code",
   "execution_count": 96,
   "metadata": {
    "collapsed": true
   },
   "outputs": [],
   "source": [
    "holdout_ratios = [.75, .65, .55, .45, .35, .25, .15]"
   ]
  },
  {
   "cell_type": "code",
   "execution_count": 105,
   "metadata": {},
   "outputs": [
    {
     "name": "stdout",
     "output_type": "stream",
     "text": [
      "Decision Tree Training Scores\n",
      "0.00000\n",
      "0.08065\n",
      "0.08750\n",
      "0.13402\n",
      "0.13913\n",
      "0.14286\n",
      "0.17219\n"
     ]
    }
   ],
   "source": [
    "from sklearn.metrics import zero_one_loss\n",
    "\n",
    "dt_score_list = []\n",
    "\n",
    "print 'Decision Tree Training Scores'         \n",
    "\n",
    "for i in holdout_ratios:\n",
    "    from sklearn.cross_validation import train_test_split\n",
    "    X_train, X_test, y_train, y_test = train_test_split(data_2, classes_2, test_size = i, random_state = 123)\n",
    "    dtree1 = DecisionTreeClassifier(criterion='entropy', max_depth=2, max_leaf_nodes=5, min_samples_split=4)\n",
    "    dtree1_fit = dtree1.fit(X_train, y_train)\n",
    "    y_val_train = y_train\n",
    "    y_hat_train = dtree.predict(X_train)\n",
    "    substitution = zero_one_loss(y_val_train, y_hat_train)\n",
    "    dt_score_list.append(substitution)\n",
    "\n",
    "    print (\"{0:.5f}\".format(substitution))\n"
   ]
  },
  {
   "cell_type": "code",
   "execution_count": 106,
   "metadata": {},
   "outputs": [
    {
     "name": "stdout",
     "output_type": "stream",
     "text": [
      "0.18657\n",
      "0.20690\n",
      "0.15306\n",
      "0.13580\n",
      "0.11111\n",
      "0.15556\n",
      "0.18519\n"
     ]
    }
   ],
   "source": [
    "dt_test_list = []\n",
    "\n",
    "for i in holdout_ratios:\n",
    "    from sklearn.cross_validation import train_test_split\n",
    "    X_train, X_test, y_train, y_test = train_test_split(data_2, classes_2, test_size = i, random_state = 123)\n",
    "    dtree2 = DecisionTreeClassifier(criterion='entropy', max_depth=2, max_leaf_nodes=5, min_samples_split=4)\n",
    "    dtree_fit = dtree2.fit(X_train, y_train)\n",
    "    y_val_test = y_test\n",
    "    y_hat_test = dtree2.predict(X_test)\n",
    "    generalization = zero_one_loss(y_val_test, y_hat_test)\n",
    "    dt_test_list.append(generalization)\n",
    "    \n",
    "    print(\"{0:.5f}\".format(generalization))"
   ]
  },
  {
   "cell_type": "code",
   "execution_count": 110,
   "metadata": {},
   "outputs": [
    {
     "name": "stdout",
     "output_type": "stream",
     "text": [
      "0.0\n",
      "0.0\n",
      "0.0\n",
      "0.0\n",
      "0.00869565217391\n",
      "0.00751879699248\n",
      "0.00662251655629\n"
     ]
    }
   ],
   "source": [
    "bayes_train_list = []\n",
    "\n",
    "for i in holdout_ratios:\n",
    "    from sklearn.cross_validation import train_test_split\n",
    "    X_trainb, X_testb, y_trainb, y_testb = train_test_split(data_2, classes_2, test_size=i, random_state = 24)\n",
    "    bclassifier = naive_bayes.GaussianNB()\n",
    "    bfitted = bclassifier.fit(X_trainb, y_trainb)\n",
    "    y_valb = y_trainb\n",
    "    y_predb = bfitted.predict(X_trainb)\n",
    "    substitution_b = zero_one_loss(y_valb, y_predb)\n",
    "    bayes_train_list.append(substitution_b)\n",
    "\n",
    "    print(substitution_b)"
   ]
  },
  {
   "cell_type": "code",
   "execution_count": 108,
   "metadata": {},
   "outputs": [
    {
     "name": "stdout",
     "output_type": "stream",
     "text": [
      "0.02985\n",
      "0.03448\n",
      "0.03061\n",
      "0.04938\n",
      "0.03175\n",
      "0.04444\n",
      "0.07407\n"
     ]
    }
   ],
   "source": [
    "bayes_test_list = []\n",
    "\n",
    "for i in holdout_ratios:\n",
    "    from sklearn.cross_validation import train_test_split\n",
    "    X_train, X_test, y_train, y_test = train_test_split(data_2, classes_2, test_size = i, random_state = 24)\n",
    "    bclassifier_test = naive_bayes.GaussianNB()\n",
    "    bclassifier_test = bclassifier_test.fit(X_train, y_train)\n",
    "    y_val_testb = y_test\n",
    "    y_hat_testb = bclassifier_test.predict(X_test)\n",
    "    generalization_b = zero_one_loss(y_val_testb, y_hat_testb)\n",
    "    bayes_test_list.append(generalization_b)\n",
    "    \n",
    "    print(\"{0:.5f}\".format(generalization_b))"
   ]
  },
  {
   "cell_type": "code",
   "execution_count": 93,
   "metadata": {},
   "outputs": [
    {
     "name": "stdout",
     "output_type": "stream",
     "text": [
      "D Tree TrainD Tree TestBayes TrainBayes Test\n",
      "0.0740740740741\n"
     ]
    }
   ],
   "source": [
    "print 'D Tree Train'            'D Tree Test'                'Bayes Train'             'Bayes Test'\n",
    "\n",
    "print (generalization_b)"
   ]
  },
  {
   "cell_type": "code",
   "execution_count": 117,
   "metadata": {},
   "outputs": [
    {
     "data": {
      "text/plain": [
       "<matplotlib.text.Text at 0x21e58320>"
      ]
     },
     "execution_count": 117,
     "metadata": {},
     "output_type": "execute_result"
    },
    {
     "data": {
      "image/png": "[encoded data removed]",
      "text/plain": [
       "<matplotlib.figure.Figure at 0x21e382b0>"
      ]
     },
     "metadata": {},
     "output_type": "display_data"
    }
   ],
   "source": [
    "plt.plot(holdout_ratios, dt_score_list, label='Decision Tree Training')\n",
    "plt.plot(holdout_ratios, dt_test_list, label = 'Decision Tree Testing')\n",
    "plt.plot(holdout_ratios, bayes_train_list, label='Bayes Training')\n",
    "plt.plot(holdout_ratios, bayes_test_list, label='Bayes Testing')\n",
    "plt.legend()\n",
    "\n",
    "plt.title('Holdout Performance')\n",
    "plt.xlabel('Holdout Ratio')\n",
    "plt.ylabel('Classification Score')\n"
   ]
  },
  {
   "cell_type": "code",
   "execution_count": null,
   "metadata": {
    "collapsed": true
   },
   "outputs": [],
   "source": []
  }
 ],
 "metadata": {
  "kernelspec": {
   "display_name": "Python 2",
   "language": "python",
   "name": "python2"
  },
  "language_info": {
   "codemirror_mode": {
    "name": "ipython",
    "version": 2
   },
   "file_extension": ".py",
   "mimetype": "text/x-python",
   "name": "python",
   "nbconvert_exporter": "python",
   "pygments_lexer": "ipython2",
   "version": "2.7.13"
  }
 },
 "nbformat": 4,
 "nbformat_minor": 2
}
