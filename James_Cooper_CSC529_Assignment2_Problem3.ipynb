{
 "cells": [
  {
   "cell_type": "markdown",
   "metadata": {},
   "source": [
    "### James Cooper | CSC 529 | Assignment 2"
   ]
  },
  {
   "cell_type": "markdown",
   "metadata": {},
   "source": [
    "### Problem 3"
   ]
  },
  {
   "cell_type": "code",
   "execution_count": 1,
   "metadata": {},
   "outputs": [
    {
     "name": "stdout",
     "output_type": "stream",
     "text": [
      "C:\\Users\\James Cooper\\Desktop\\DePaul\\Advanced Data Mining\\Homework2\n"
     ]
    }
   ],
   "source": [
    "cd \"C:/Users/James Cooper/Desktop/DePaul/Advanced Data Mining/Homework2\""
   ]
  },
  {
   "cell_type": "code",
   "execution_count": 2,
   "metadata": {},
   "outputs": [
    {
     "name": "stdout",
     "output_type": "stream",
     "text": [
      "Populating the interactive namespace from numpy and matplotlib\n"
     ]
    }
   ],
   "source": [
    "import numpy as np\n",
    "import pandas as pd\n",
    "import matplotlib.pyplot as plt\n",
    "%matplotlib inline\n",
    "%pylab inline\n",
    "import seaborn as sns\n",
    "from sklearn import preprocessing\n",
    "from sklearn.tree import DecisionTreeClassifier\n",
    "from sklearn import metrics\n",
    "from sklearn import tree\n",
    "from sklearn.metrics import accuracy_score"
   ]
  },
  {
   "cell_type": "markdown",
   "metadata": {},
   "source": [
    "#### a.\tRepeat Problem 2.b from Assignment#1 on the Wine Recognition Dataset but this time considering only two classes (let us say, class 1 (positive class) versus class 2 and class 3 (negative class) since the ROC and lift curves can only be drawn for binary classification problems)."
   ]
  },
  {
   "cell_type": "code",
   "execution_count": 31,
   "metadata": {},
   "outputs": [
    {
     "data": {
      "text/html": [
       "<div>\n",
       "<style>\n",
       "    .dataframe thead tr:only-child th {\n",
       "        text-align: right;\n",
       "    }\n",
       "\n",
       "    .dataframe thead th {\n",
       "        text-align: left;\n",
       "    }\n",
       "\n",
       "    .dataframe tbody tr th {\n",
       "        vertical-align: top;\n",
       "    }\n",
       "</style>\n",
       "<table border=\"1\" class=\"dataframe\">\n",
       "  <thead>\n",
       "    <tr style=\"text-align: right;\">\n",
       "      <th></th>\n",
       "      <th>Classes</th>\n",
       "      <th>Classes_num</th>\n",
       "      <th>Alcohol</th>\n",
       "      <th>Malic_Acid</th>\n",
       "      <th>Ash</th>\n",
       "      <th>Alcalinity_ash</th>\n",
       "      <th>Magnesium</th>\n",
       "      <th>Total_phenols</th>\n",
       "      <th>Flavanoids</th>\n",
       "      <th>Nonfavanoid_phenols</th>\n",
       "      <th>Proanthocyanins</th>\n",
       "      <th>Color Intensity</th>\n",
       "      <th>Hue</th>\n",
       "      <th>OD280_diluted_wines</th>\n",
       "      <th>Proline</th>\n",
       "    </tr>\n",
       "  </thead>\n",
       "  <tbody>\n",
       "    <tr>\n",
       "      <th>0</th>\n",
       "      <td>1</td>\n",
       "      <td>0</td>\n",
       "      <td>14.23</td>\n",
       "      <td>1.71</td>\n",
       "      <td>2.43</td>\n",
       "      <td>15.6</td>\n",
       "      <td>127</td>\n",
       "      <td>2.80</td>\n",
       "      <td>3.06</td>\n",
       "      <td>0.28</td>\n",
       "      <td>2.29</td>\n",
       "      <td>5.64</td>\n",
       "      <td>1.04</td>\n",
       "      <td>3.92</td>\n",
       "      <td>1065</td>\n",
       "    </tr>\n",
       "    <tr>\n",
       "      <th>1</th>\n",
       "      <td>1</td>\n",
       "      <td>0</td>\n",
       "      <td>13.20</td>\n",
       "      <td>1.78</td>\n",
       "      <td>2.14</td>\n",
       "      <td>11.2</td>\n",
       "      <td>100</td>\n",
       "      <td>2.65</td>\n",
       "      <td>2.76</td>\n",
       "      <td>0.26</td>\n",
       "      <td>1.28</td>\n",
       "      <td>4.38</td>\n",
       "      <td>1.05</td>\n",
       "      <td>3.40</td>\n",
       "      <td>1050</td>\n",
       "    </tr>\n",
       "    <tr>\n",
       "      <th>2</th>\n",
       "      <td>1</td>\n",
       "      <td>0</td>\n",
       "      <td>13.16</td>\n",
       "      <td>2.36</td>\n",
       "      <td>2.67</td>\n",
       "      <td>18.6</td>\n",
       "      <td>101</td>\n",
       "      <td>2.80</td>\n",
       "      <td>3.24</td>\n",
       "      <td>0.30</td>\n",
       "      <td>2.81</td>\n",
       "      <td>5.68</td>\n",
       "      <td>1.03</td>\n",
       "      <td>3.17</td>\n",
       "      <td>1185</td>\n",
       "    </tr>\n",
       "    <tr>\n",
       "      <th>3</th>\n",
       "      <td>1</td>\n",
       "      <td>0</td>\n",
       "      <td>14.37</td>\n",
       "      <td>1.95</td>\n",
       "      <td>2.50</td>\n",
       "      <td>16.8</td>\n",
       "      <td>113</td>\n",
       "      <td>3.85</td>\n",
       "      <td>3.49</td>\n",
       "      <td>0.24</td>\n",
       "      <td>2.18</td>\n",
       "      <td>7.80</td>\n",
       "      <td>0.86</td>\n",
       "      <td>3.45</td>\n",
       "      <td>1480</td>\n",
       "    </tr>\n",
       "    <tr>\n",
       "      <th>4</th>\n",
       "      <td>1</td>\n",
       "      <td>0</td>\n",
       "      <td>13.24</td>\n",
       "      <td>2.59</td>\n",
       "      <td>2.87</td>\n",
       "      <td>21.0</td>\n",
       "      <td>118</td>\n",
       "      <td>2.80</td>\n",
       "      <td>2.69</td>\n",
       "      <td>0.39</td>\n",
       "      <td>1.82</td>\n",
       "      <td>4.32</td>\n",
       "      <td>1.04</td>\n",
       "      <td>2.93</td>\n",
       "      <td>735</td>\n",
       "    </tr>\n",
       "  </tbody>\n",
       "</table>\n",
       "</div>"
      ],
      "text/plain": [
       "   Classes  Classes_num  Alcohol  Malic_Acid   Ash  Alcalinity_ash  Magnesium  \\\n",
       "0        1            0    14.23        1.71  2.43            15.6        127   \n",
       "1        1            0    13.20        1.78  2.14            11.2        100   \n",
       "2        1            0    13.16        2.36  2.67            18.6        101   \n",
       "3        1            0    14.37        1.95  2.50            16.8        113   \n",
       "4        1            0    13.24        2.59  2.87            21.0        118   \n",
       "\n",
       "   Total_phenols  Flavanoids  Nonfavanoid_phenols  Proanthocyanins  \\\n",
       "0           2.80        3.06                 0.28             2.29   \n",
       "1           2.65        2.76                 0.26             1.28   \n",
       "2           2.80        3.24                 0.30             2.81   \n",
       "3           3.85        3.49                 0.24             2.18   \n",
       "4           2.80        2.69                 0.39             1.82   \n",
       "\n",
       "   Color Intensity   Hue  OD280_diluted_wines  Proline  \n",
       "0             5.64  1.04                 3.92     1065  \n",
       "1             4.38  1.05                 3.40     1050  \n",
       "2             5.68  1.03                 3.17     1185  \n",
       "3             7.80  0.86                 3.45     1480  \n",
       "4             4.32  1.04                 2.93      735  "
      ]
     },
     "execution_count": 31,
     "metadata": {},
     "output_type": "execute_result"
    }
   ],
   "source": [
    "dat = pd.read_csv(\"Wine_data_3.csv\", sep=',')\n",
    "dat.head()"
   ]
  },
  {
   "cell_type": "code",
   "execution_count": 198,
   "metadata": {},
   "outputs": [],
   "source": [
    "data_2 = dat.drop(['Classes', 'Classes_num'], axis=1).values\n",
    "classes_2 = dat['Classes_num'].astype('int').values"
   ]
  },
  {
   "cell_type": "code",
   "execution_count": 40,
   "metadata": {},
   "outputs": [
    {
     "data": {
      "text/plain": [
       "array([  1.32000000e+01,   1.78000000e+00,   2.14000000e+00,\n",
       "         1.12000000e+01,   1.00000000e+02,   2.65000000e+00,\n",
       "         2.76000000e+00,   2.60000000e-01,   1.28000000e+00,\n",
       "         4.38000000e+00,   1.05000000e+00,   3.40000000e+00,\n",
       "         1.05000000e+03])"
      ]
     },
     "execution_count": 40,
     "metadata": {},
     "output_type": "execute_result"
    }
   ],
   "source": [
    "data_2[1]"
   ]
  },
  {
   "cell_type": "code",
   "execution_count": 36,
   "metadata": {},
   "outputs": [
    {
     "data": {
      "text/plain": [
       "array([0, 0, 0, 0, 0, 0, 0, 0, 0, 0, 0, 0, 0, 0, 0, 0, 0, 0, 0, 0, 0, 0, 0,\n",
       "       0, 0, 0, 0, 0, 0, 0, 0, 0, 0, 0, 0, 0, 0, 0, 0, 0, 0, 0, 0, 0, 0, 0,\n",
       "       0, 0, 0, 0, 0, 0, 0, 0, 0, 0, 0, 0, 0, 1, 1, 1, 1, 1, 1, 1, 1, 1, 1,\n",
       "       1, 1, 1, 1, 1, 1, 1, 1, 1, 1, 1, 1, 1, 1, 1, 1, 1, 1, 1, 1, 1, 1, 1,\n",
       "       1, 1, 1, 1, 1, 1, 1, 1, 1, 1, 1, 1, 1, 1, 1, 1, 1, 1, 1, 1, 1, 1, 1,\n",
       "       1, 1, 1, 1, 1, 1, 1, 1, 1, 1, 1, 1, 1, 1, 1, 1, 1, 1, 1, 1, 1, 1, 1,\n",
       "       1, 1, 1, 1, 1, 1, 1, 1, 1, 1, 1, 1, 1, 1, 1, 1, 1, 1, 1, 1, 1, 1, 1,\n",
       "       1, 1, 1, 1, 1, 1, 1, 1, 1, 1, 1, 1, 1, 1, 1, 1, 1])"
      ]
     },
     "execution_count": 36,
     "metadata": {},
     "output_type": "execute_result"
    }
   ],
   "source": [
    "classes_2"
   ]
  },
  {
   "cell_type": "code",
   "execution_count": 37,
   "metadata": {
    "collapsed": true
   },
   "outputs": [],
   "source": [
    "from sklearn import naive_bayes\n",
    "from sklearn.metrics import classification_report\n",
    "from sklearn.metrics import confusion_matrix"
   ]
  },
  {
   "cell_type": "code",
   "execution_count": 48,
   "metadata": {},
   "outputs": [],
   "source": [
    "from sklearn.model_selection import train_test_split\n",
    "\n",
    "X_train, X_test, y_train, y_test = train_test_split(data_2, classes_2, test_size=.34, random_state=21)"
   ]
  },
  {
   "cell_type": "code",
   "execution_count": 193,
   "metadata": {
    "collapsed": true
   },
   "outputs": [],
   "source": [
    "bclassifier = naive_bayes.GaussianNB()\n",
    "bfitted = bclassifier.fit(X_train, y_train)\n",
    "bayespredict_train = bfitted.predict(X_train)\n",
    "bayespredict = bfitted.predict(X_test)"
   ]
  },
  {
   "cell_type": "code",
   "execution_count": 195,
   "metadata": {},
   "outputs": [
    {
     "data": {
      "text/plain": [
       "array([[37,  2],\n",
       "       [ 2, 76]])"
      ]
     },
     "execution_count": 195,
     "metadata": {},
     "output_type": "execute_result"
    }
   ],
   "source": [
    "cmatrix = confusion_matrix(y_train, bayespredict_train)\n",
    "cmatrix"
   ]
  },
  {
   "cell_type": "code",
   "execution_count": 50,
   "metadata": {},
   "outputs": [
    {
     "data": {
      "text/plain": [
       "array([[19,  1],\n",
       "       [ 0, 41]])"
      ]
     },
     "execution_count": 50,
     "metadata": {},
     "output_type": "execute_result"
    }
   ],
   "source": [
    "#Performance Evaluation\n",
    "confmatrix = confusion_matrix(y_test, bayespredict)\n",
    "confmatrix"
   ]
  },
  {
   "cell_type": "code",
   "execution_count": 51,
   "metadata": {
    "collapsed": true
   },
   "outputs": [],
   "source": [
    "TP = confmatrix[1, 1]\n",
    "TN = confmatrix[0, 0]\n",
    "FP = confmatrix[0, 1]\n",
    "FN = confmatrix[1, 0]"
   ]
  },
  {
   "cell_type": "markdown",
   "metadata": {},
   "source": [
    "#### b.\tDraw the ROC curves for the Naïve Bayes performance on both the training and testing data. Interpret the graphs.  If you would have to choose a certain probability threshold to maximize both sensitivity and specificity on the testing data, which threshold value would you select?"
   ]
  },
  {
   "cell_type": "code",
   "execution_count": 59,
   "metadata": {},
   "outputs": [],
   "source": [
    "y_pred_prob = bclassifier.predict_proba(X_test)[:,1]"
   ]
  },
  {
   "cell_type": "code",
   "execution_count": 62,
   "metadata": {},
   "outputs": [
    {
     "data": {
      "text/plain": [
       "array([ 1.73,  0.74,  3.8 ,  4.95,  5.65,  1.35,  1.75,  1.57,  2.99,\n",
       "        2.36,  2.16,  0.98,  3.12,  1.63,  1.67,  2.76,  3.88,  3.1 ,\n",
       "        3.03,  4.04,  1.89,  1.29,  3.03,  1.39,  1.88,  1.34,  1.87,\n",
       "        1.86,  1.1 ,  1.71,  1.25,  0.94,  3.9 ,  1.73,  1.77,  3.27,\n",
       "        3.17,  1.47,  2.67,  1.65,  2.83,  2.43,  1.6 ,  1.51,  1.52,\n",
       "        1.77,  2.51,  4.61,  1.61,  1.41,  2.15,  3.59,  2.56,  4.12,\n",
       "        1.67,  2.55,  2.13,  1.61,  1.87,  4.72,  4.1 ])"
      ]
     },
     "execution_count": 62,
     "metadata": {},
     "output_type": "execute_result"
    }
   ],
   "source": [
    "X_test[:,1]"
   ]
  },
  {
   "cell_type": "code",
   "execution_count": 58,
   "metadata": {},
   "outputs": [
    {
     "data": {
      "text/plain": [
       "array([  2.43706935e-07,   1.00000000e+00,   5.28371408e-01,\n",
       "         1.00000000e+00,   1.00000000e+00,   2.20608666e-07,\n",
       "         1.07569310e-08,   3.94546705e-07,   1.00000000e+00,\n",
       "         1.39753663e-07,   9.99999337e-01,   9.99964551e-01,\n",
       "         1.00000000e+00,   8.98520209e-06,   5.43069535e-07,\n",
       "         1.00000000e+00,   1.00000000e+00,   7.07882893e-05,\n",
       "         1.00000000e+00,   9.40810148e-05,   1.31940249e-07,\n",
       "         1.00000000e+00,   1.00000000e+00,   9.99999978e-01,\n",
       "         1.00000000e+00,   1.00000000e+00,   5.96964069e-10,\n",
       "         7.02624985e-06,   1.00000000e+00,   3.95840396e-05,\n",
       "         9.99992817e-01,   1.00000000e+00,   1.00000000e+00,\n",
       "         9.99999987e-01,   1.20509970e-07,   1.00000000e+00,\n",
       "         1.00000000e+00,   1.00000000e+00,   1.00000000e+00,\n",
       "         3.48295351e-04,   9.99982565e-01,   9.99999168e-01,\n",
       "         2.82131302e-03,   1.00000000e+00,   9.99768643e-01,\n",
       "         2.95706738e-04,   1.00000000e+00,   1.00000000e+00,\n",
       "         9.99999626e-01,   9.99879364e-01,   2.55703405e-09,\n",
       "         1.00000000e+00,   1.00000000e+00,   1.00000000e+00,\n",
       "         1.00000000e+00,   1.00000000e+00,   1.00000000e+00,\n",
       "         1.00000000e+00,   3.27384401e-14,   1.00000000e+00,\n",
       "         1.00000000e+00])"
      ]
     },
     "execution_count": 58,
     "metadata": {},
     "output_type": "execute_result"
    }
   ],
   "source": [
    "y_pred_prob"
   ]
  },
  {
   "cell_type": "code",
   "execution_count": 64,
   "metadata": {},
   "outputs": [
    {
     "data": {
      "text/plain": [
       "array([  1.00000000e+00,   9.99768643e-01,   3.27384401e-14])"
      ]
     },
     "execution_count": 64,
     "metadata": {},
     "output_type": "execute_result"
    }
   ],
   "source": [
    "from sklearn.metrics import roc_curve\n",
    "fpr, tpr, thresholds = roc_curve(y_test, y_pred_prob)\n",
    "thresholds"
   ]
  },
  {
   "cell_type": "code",
   "execution_count": 56,
   "metadata": {},
   "outputs": [
    {
     "data": {
      "image/png": "[encoded data removed]",
      "text/plain": [
       "<matplotlib.figure.Figure at 0x1de09048>"
      ]
     },
     "metadata": {},
     "output_type": "display_data"
    }
   ],
   "source": [
    "# Plot ROC curve\n",
    "plt.plot([0, 1], [0, 1], 'k--')\n",
    "plt.plot(fpr, tpr)\n",
    "plt.xlabel('False Positive Rate')\n",
    "plt.ylabel('True Positive Rate')\n",
    "plt.title('ROC Curve')\n",
    "plt.show()"
   ]
  },
  {
   "cell_type": "code",
   "execution_count": 82,
   "metadata": {},
   "outputs": [
    {
     "name": "stdout",
     "output_type": "stream",
     "text": [
      "[  1.00000000e+00   9.99768643e-01   3.27384401e-14]\n"
     ]
    }
   ],
   "source": [
    "print(thresholds)"
   ]
  },
  {
   "cell_type": "code",
   "execution_count": 87,
   "metadata": {
    "collapsed": true
   },
   "outputs": [],
   "source": [
    "# define a function that accepts a threshold and prints sensitivity and specificity\n",
    "def evaluate_threshold(threshold):\n",
    "    print ('Sensitivity:', tpr[thresholds > threshold][-1])\n",
    "    print ('Specificity:', 1 - fpr[thresholds > threshold][-1])"
   ]
  },
  {
   "cell_type": "markdown",
   "metadata": {},
   "source": [
    "So the threshold here is 0.99, if we go below 0.9999 the Sensitivity will go to 1"
   ]
  },
  {
   "cell_type": "code",
   "execution_count": 207,
   "metadata": {},
   "outputs": [
    {
     "name": "stdout",
     "output_type": "stream",
     "text": [
      "('Sensitivity:', 0.56097560975609762)\n",
      "('Specificity:', 1.0)\n"
     ]
    }
   ],
   "source": [
    "evaluate_threshold(0.9999)"
   ]
  },
  {
   "cell_type": "code",
   "execution_count": 101,
   "metadata": {
    "collapsed": true
   },
   "outputs": [],
   "source": [
    "y_pred_prob_train = bclassifier.predict_proba(X_train)[:,1]"
   ]
  },
  {
   "cell_type": "code",
   "execution_count": 97,
   "metadata": {},
   "outputs": [
    {
     "data": {
      "image/png": "[encoded data removed]",
      "text/plain": [
       "<matplotlib.figure.Figure at 0x1f834d68>"
      ]
     },
     "metadata": {},
     "output_type": "display_data"
    }
   ],
   "source": [
    "from sklearn.metrics import roc_curve\n",
    "fpr_train, tpr_train, thresholds_train = roc_curve(y_train, y_pred_prob_train)\n",
    "\n",
    "\n",
    "# Plot ROC curve\n",
    "plt.plot([0, 1], [0, 1], 'k--')\n",
    "plt.plot(fpr_train, tpr_train)\n",
    "plt.xlabel('False Positive Rate')\n",
    "plt.ylabel('True Positive Rate')\n",
    "plt.title('ROC Curve')\n",
    "plt.show()"
   ]
  },
  {
   "cell_type": "markdown",
   "metadata": {},
   "source": [
    "#### c.\tDraw the lift curves for the Naïve Bayes performance on both the training and testing data. Interpret the results.  If the requirement is to get at least 80% accuracy on the data with a minimum cost of data acquisition, what size for the data would you recommend to reach that accuracy performance?"
   ]
  },
  {
   "cell_type": "markdown",
   "metadata": {},
   "source": [
    "The Bayes model is used to predict on the training and testing set here. This time we are using predict_proba, which is a very useful tool that gives us 2 arrays of the probabilities of predicting the particular class for each instance. The first column or array, is Class 0, the second column is Class 1. Here Class 1 is used. Dummy variables are obtained for each instance of the data, so 2 columns are obtained and then indexed with the sorted scores from low to high. Now there is an indexed array with the scores matched with the actual classes (sort_class1). Since the classes are sorted, the 1's should mostly be at the beginning, and if 0's are interspersed that will penalize the score or the cumulative sum will be less. This will be illustrated on the gain chart as to how much of the target is identified."
   ]
  },
  {
   "cell_type": "code",
   "execution_count": 174,
   "metadata": {},
   "outputs": [
    {
     "data": {
      "text/plain": [
       "array([[  9.99999937e-01,   6.30759867e-08],\n",
       "       [  3.81456953e-17,   1.00000000e+00],\n",
       "       [  1.11129548e-07,   9.99999889e-01],\n",
       "       [  7.50840696e-06,   9.99992492e-01],\n",
       "       [  3.63469884e-33,   1.00000000e+00],\n",
       "       [  1.00000000e+00,   5.98982209e-14],\n",
       "       [  1.83176290e-23,   1.00000000e+00],\n",
       "       [  1.16838569e-16,   1.00000000e+00],\n",
       "       [  8.40859597e-16,   1.00000000e+00],\n",
       "       [  3.86512183e-20,   1.00000000e+00],\n",
       "       [  9.86091925e-01,   1.39080751e-02],\n",
       "       [  3.21835955e-12,   1.00000000e+00],\n",
       "       [  4.04346366e-10,   1.00000000e+00],\n",
       "       [  9.99999781e-01,   2.19459642e-07],\n",
       "       [  9.98600322e-01,   1.39967830e-03],\n",
       "       [  1.00000000e+00,   2.09099153e-12],\n",
       "       [  9.99996650e-01,   3.34994746e-06],\n",
       "       [  7.67080237e-01,   2.32919763e-01],\n",
       "       [  9.99598301e-01,   4.01698752e-04],\n",
       "       [  9.99999799e-01,   2.00978679e-07],\n",
       "       [  1.13222007e-14,   1.00000000e+00],\n",
       "       [  4.66577588e-16,   1.00000000e+00],\n",
       "       [  9.99999958e-01,   4.21927781e-08],\n",
       "       [  6.47999477e-10,   9.99999999e-01],\n",
       "       [  9.99999998e-01,   1.87849374e-09],\n",
       "       [  4.11904764e-28,   1.00000000e+00],\n",
       "       [  7.13604012e-05,   9.99928640e-01],\n",
       "       [  5.70892370e-03,   9.94291076e-01],\n",
       "       [  1.55339254e-24,   1.00000000e+00],\n",
       "       [  1.93418648e-07,   9.99999807e-01],\n",
       "       [  1.03526739e-01,   8.96473261e-01],\n",
       "       [  1.16238376e-11,   1.00000000e+00],\n",
       "       [  2.36597529e-03,   9.97634025e-01],\n",
       "       [  8.75537790e-13,   1.00000000e+00],\n",
       "       [  3.35788776e-17,   1.00000000e+00],\n",
       "       [  1.00000000e+00,   2.87634839e-13],\n",
       "       [  9.99899788e-01,   1.00212101e-04],\n",
       "       [  3.87670523e-14,   1.00000000e+00],\n",
       "       [  9.99995305e-01,   4.69546438e-06],\n",
       "       [  1.26188151e-06,   9.99998738e-01],\n",
       "       [  9.99999998e-01,   1.55733462e-09],\n",
       "       [  9.99991520e-01,   8.47980800e-06],\n",
       "       [  8.85983444e-07,   9.99999114e-01],\n",
       "       [  1.00000000e+00,   4.56477222e-10],\n",
       "       [  9.99999998e-01,   1.69401266e-09],\n",
       "       [  2.67075961e-17,   1.00000000e+00],\n",
       "       [  5.38800620e-06,   9.99994612e-01],\n",
       "       [  9.99992774e-01,   7.22586024e-06],\n",
       "       [  4.27315777e-20,   1.00000000e+00],\n",
       "       [  4.95776313e-16,   1.00000000e+00],\n",
       "       [  7.07255799e-18,   1.00000000e+00],\n",
       "       [  8.84103313e-18,   1.00000000e+00],\n",
       "       [  1.16071596e-01,   8.83928404e-01],\n",
       "       [  3.24733857e-27,   1.00000000e+00],\n",
       "       [  9.99218358e-01,   7.81641535e-04],\n",
       "       [  9.99999033e-01,   9.67420451e-07],\n",
       "       [  3.85473133e-07,   9.99999615e-01],\n",
       "       [  1.90251968e-16,   1.00000000e+00],\n",
       "       [  1.03427543e-23,   1.00000000e+00],\n",
       "       [  8.36913622e-13,   1.00000000e+00],\n",
       "       [  1.23752286e-12,   1.00000000e+00],\n",
       "       [  4.25813379e-01,   5.74186621e-01],\n",
       "       [  9.95142418e-01,   4.85758204e-03],\n",
       "       [  1.37992091e-06,   9.99998620e-01],\n",
       "       [  7.73379670e-12,   1.00000000e+00],\n",
       "       [  8.82981788e-17,   1.00000000e+00],\n",
       "       [  9.99999999e-01,   1.47498300e-09],\n",
       "       [  9.99999921e-01,   7.88048743e-08],\n",
       "       [  9.99999314e-01,   6.86131784e-07],\n",
       "       [  1.76127487e-01,   8.23872513e-01],\n",
       "       [  5.77585167e-13,   1.00000000e+00],\n",
       "       [  5.05013789e-01,   4.94986211e-01],\n",
       "       [  8.72636618e-03,   9.91273634e-01],\n",
       "       [  2.44938395e-16,   1.00000000e+00],\n",
       "       [  3.50480773e-22,   1.00000000e+00],\n",
       "       [  4.61831286e-21,   1.00000000e+00],\n",
       "       [  9.99999997e-01,   3.43610266e-09],\n",
       "       [  2.92863504e-06,   9.99997071e-01],\n",
       "       [  2.20124597e-22,   1.00000000e+00],\n",
       "       [  8.22680392e-18,   1.00000000e+00],\n",
       "       [  1.32217238e-10,   1.00000000e+00],\n",
       "       [  6.59025623e-23,   1.00000000e+00],\n",
       "       [  6.47844161e-08,   9.99999935e-01],\n",
       "       [  1.35539295e-04,   9.99864461e-01],\n",
       "       [  1.50783738e-28,   1.00000000e+00],\n",
       "       [  9.99990277e-01,   9.72336257e-06],\n",
       "       [  7.71800046e-15,   1.00000000e+00],\n",
       "       [  2.25045652e-22,   1.00000000e+00],\n",
       "       [  9.99999999e-01,   6.97853998e-10],\n",
       "       [  5.49789154e-12,   1.00000000e+00],\n",
       "       [  9.99999999e-01,   6.00240830e-10],\n",
       "       [  1.99739160e-18,   1.00000000e+00],\n",
       "       [  9.99967668e-01,   3.23317510e-05],\n",
       "       [  3.67492150e-08,   9.99999963e-01],\n",
       "       [  1.00000000e+00,   2.24483854e-13],\n",
       "       [  1.00000000e+00,   2.73781814e-11],\n",
       "       [  4.24226482e-18,   1.00000000e+00],\n",
       "       [  9.99996648e-01,   3.35194079e-06],\n",
       "       [  1.00000000e+00,   1.38713739e-15],\n",
       "       [  6.70272910e-19,   1.00000000e+00],\n",
       "       [  1.40639043e-11,   1.00000000e+00],\n",
       "       [  2.41648591e-20,   1.00000000e+00],\n",
       "       [  1.32999643e-21,   1.00000000e+00],\n",
       "       [  2.08745570e-07,   9.99999791e-01],\n",
       "       [  1.37765190e-05,   9.99986223e-01],\n",
       "       [  3.66883325e-22,   1.00000000e+00],\n",
       "       [  1.05365766e-10,   1.00000000e+00],\n",
       "       [  9.50675081e-16,   1.00000000e+00],\n",
       "       [  1.94466904e-11,   1.00000000e+00],\n",
       "       [  5.74974350e-07,   9.99999425e-01],\n",
       "       [  4.47956482e-02,   9.55204352e-01],\n",
       "       [  5.87402726e-20,   1.00000000e+00],\n",
       "       [  2.37910895e-06,   9.99997621e-01],\n",
       "       [  2.89206229e-13,   1.00000000e+00],\n",
       "       [  9.99999707e-01,   2.92787917e-07],\n",
       "       [  9.77833018e-01,   2.21669815e-02],\n",
       "       [  9.99999793e-01,   2.06735699e-07]])"
      ]
     },
     "execution_count": 174,
     "metadata": {},
     "output_type": "execute_result"
    }
   ],
   "source": [
    "probas = bfitted.predict_proba(X_train)\n",
    "probas"
   ]
  },
  {
   "cell_type": "code",
   "execution_count": 211,
   "metadata": {},
   "outputs": [
    {
     "data": {
      "text/plain": [
       "array([  6.30759867e-08,   1.00000000e+00,   9.99999889e-01,\n",
       "         9.99992492e-01,   1.00000000e+00,   5.98982209e-14,\n",
       "         1.00000000e+00,   1.00000000e+00,   1.00000000e+00,\n",
       "         1.00000000e+00,   1.39080751e-02,   1.00000000e+00,\n",
       "         1.00000000e+00,   2.19459642e-07,   1.39967830e-03,\n",
       "         2.09099153e-12,   3.34994746e-06,   2.32919763e-01,\n",
       "         4.01698752e-04,   2.00978679e-07,   1.00000000e+00,\n",
       "         1.00000000e+00,   4.21927781e-08,   9.99999999e-01,\n",
       "         1.87849374e-09,   1.00000000e+00,   9.99928640e-01,\n",
       "         9.94291076e-01,   1.00000000e+00,   9.99999807e-01,\n",
       "         8.96473261e-01,   1.00000000e+00,   9.97634025e-01,\n",
       "         1.00000000e+00,   1.00000000e+00,   2.87634839e-13,\n",
       "         1.00212101e-04,   1.00000000e+00,   4.69546438e-06,\n",
       "         9.99998738e-01,   1.55733462e-09,   8.47980800e-06,\n",
       "         9.99999114e-01,   4.56477222e-10,   1.69401266e-09,\n",
       "         1.00000000e+00,   9.99994612e-01,   7.22586024e-06,\n",
       "         1.00000000e+00,   1.00000000e+00,   1.00000000e+00,\n",
       "         1.00000000e+00,   8.83928404e-01,   1.00000000e+00,\n",
       "         7.81641535e-04,   9.67420451e-07,   9.99999615e-01,\n",
       "         1.00000000e+00,   1.00000000e+00,   1.00000000e+00,\n",
       "         1.00000000e+00,   5.74186621e-01,   4.85758204e-03,\n",
       "         9.99998620e-01,   1.00000000e+00,   1.00000000e+00,\n",
       "         1.47498300e-09,   7.88048743e-08,   6.86131784e-07,\n",
       "         8.23872513e-01,   1.00000000e+00,   4.94986211e-01,\n",
       "         9.91273634e-01,   1.00000000e+00,   1.00000000e+00,\n",
       "         1.00000000e+00,   3.43610266e-09,   9.99997071e-01,\n",
       "         1.00000000e+00,   1.00000000e+00,   1.00000000e+00,\n",
       "         1.00000000e+00,   9.99999935e-01,   9.99864461e-01,\n",
       "         1.00000000e+00,   9.72336257e-06,   1.00000000e+00,\n",
       "         1.00000000e+00,   6.97853998e-10,   1.00000000e+00,\n",
       "         6.00240830e-10,   1.00000000e+00,   3.23317510e-05,\n",
       "         9.99999963e-01,   2.24483854e-13,   2.73781814e-11,\n",
       "         1.00000000e+00,   3.35194079e-06,   1.38713739e-15,\n",
       "         1.00000000e+00,   1.00000000e+00,   1.00000000e+00,\n",
       "         1.00000000e+00,   9.99999791e-01,   9.99986223e-01,\n",
       "         1.00000000e+00,   1.00000000e+00,   1.00000000e+00,\n",
       "         1.00000000e+00,   9.99999425e-01,   9.55204352e-01,\n",
       "         1.00000000e+00,   9.99997621e-01,   1.00000000e+00,\n",
       "         2.92787917e-07,   2.21669815e-02,   2.06735699e-07])"
      ]
     },
     "execution_count": 211,
     "metadata": {},
     "output_type": "execute_result"
    }
   ],
   "source": [
    "scores = probas[:,1]\n",
    "scores"
   ]
  },
  {
   "cell_type": "code",
   "execution_count": 161,
   "metadata": {},
   "outputs": [
    {
     "data": {
      "text/plain": [
       "array([0, 1, 1, 1, 1, 0, 1, 1, 1, 1, 0, 1, 1, 0, 0, 0, 0, 1, 0, 0, 1, 1, 0,\n",
       "       1, 0, 1, 1, 1, 1, 1, 1, 1, 1, 1, 1, 0, 0, 1, 0, 1, 0, 0, 1, 0, 0, 1,\n",
       "       1, 0, 1, 1, 1, 1, 0, 1, 0, 0, 1, 1, 1, 1, 1, 0, 0, 1, 1, 1, 0, 0, 0,\n",
       "       1, 1, 1, 1, 1, 1, 1, 0, 1, 1, 1, 1, 1, 1, 1, 1, 0, 1, 1, 0, 1, 0, 1,\n",
       "       0, 1, 0, 0, 1, 0, 0, 1, 1, 1, 1, 1, 1, 1, 1, 1, 1, 1, 1, 1, 1, 1, 0,\n",
       "       0, 0])"
      ]
     },
     "execution_count": 161,
     "metadata": {},
     "output_type": "execute_result"
    }
   ],
   "source": [
    "y_train"
   ]
  },
  {
   "cell_type": "code",
   "execution_count": 162,
   "metadata": {},
   "outputs": [
    {
     "data": {
      "text/plain": [
       "array([[1, 0],\n",
       "       [0, 1],\n",
       "       [0, 1],\n",
       "       [0, 1],\n",
       "       [0, 1],\n",
       "       [1, 0],\n",
       "       [0, 1],\n",
       "       [0, 1],\n",
       "       [0, 1],\n",
       "       [0, 1],\n",
       "       [1, 0],\n",
       "       [0, 1],\n",
       "       [0, 1],\n",
       "       [1, 0],\n",
       "       [1, 0],\n",
       "       [1, 0],\n",
       "       [1, 0],\n",
       "       [0, 1],\n",
       "       [1, 0],\n",
       "       [1, 0],\n",
       "       [0, 1],\n",
       "       [0, 1],\n",
       "       [1, 0],\n",
       "       [0, 1],\n",
       "       [1, 0],\n",
       "       [0, 1],\n",
       "       [0, 1],\n",
       "       [0, 1],\n",
       "       [0, 1],\n",
       "       [0, 1],\n",
       "       [0, 1],\n",
       "       [0, 1],\n",
       "       [0, 1],\n",
       "       [0, 1],\n",
       "       [0, 1],\n",
       "       [1, 0],\n",
       "       [1, 0],\n",
       "       [0, 1],\n",
       "       [1, 0],\n",
       "       [0, 1],\n",
       "       [1, 0],\n",
       "       [1, 0],\n",
       "       [0, 1],\n",
       "       [1, 0],\n",
       "       [1, 0],\n",
       "       [0, 1],\n",
       "       [0, 1],\n",
       "       [1, 0],\n",
       "       [0, 1],\n",
       "       [0, 1],\n",
       "       [0, 1],\n",
       "       [0, 1],\n",
       "       [1, 0],\n",
       "       [0, 1],\n",
       "       [1, 0],\n",
       "       [1, 0],\n",
       "       [0, 1],\n",
       "       [0, 1],\n",
       "       [0, 1],\n",
       "       [0, 1],\n",
       "       [0, 1],\n",
       "       [1, 0],\n",
       "       [1, 0],\n",
       "       [0, 1],\n",
       "       [0, 1],\n",
       "       [0, 1],\n",
       "       [1, 0],\n",
       "       [1, 0],\n",
       "       [1, 0],\n",
       "       [0, 1],\n",
       "       [0, 1],\n",
       "       [0, 1],\n",
       "       [0, 1],\n",
       "       [0, 1],\n",
       "       [0, 1],\n",
       "       [0, 1],\n",
       "       [1, 0],\n",
       "       [0, 1],\n",
       "       [0, 1],\n",
       "       [0, 1],\n",
       "       [0, 1],\n",
       "       [0, 1],\n",
       "       [0, 1],\n",
       "       [0, 1],\n",
       "       [0, 1],\n",
       "       [1, 0],\n",
       "       [0, 1],\n",
       "       [0, 1],\n",
       "       [1, 0],\n",
       "       [0, 1],\n",
       "       [1, 0],\n",
       "       [0, 1],\n",
       "       [1, 0],\n",
       "       [0, 1],\n",
       "       [1, 0],\n",
       "       [1, 0],\n",
       "       [0, 1],\n",
       "       [1, 0],\n",
       "       [1, 0],\n",
       "       [0, 1],\n",
       "       [0, 1],\n",
       "       [0, 1],\n",
       "       [0, 1],\n",
       "       [0, 1],\n",
       "       [0, 1],\n",
       "       [0, 1],\n",
       "       [0, 1],\n",
       "       [0, 1],\n",
       "       [0, 1],\n",
       "       [0, 1],\n",
       "       [0, 1],\n",
       "       [0, 1],\n",
       "       [0, 1],\n",
       "       [0, 1],\n",
       "       [1, 0],\n",
       "       [1, 0],\n",
       "       [1, 0]], dtype=uint8)"
      ]
     },
     "execution_count": 162,
     "metadata": {},
     "output_type": "execute_result"
    }
   ],
   "source": [
    "class_instances = pd.get_dummies(y_train).as_matrix()\n",
    "class_instances"
   ]
  },
  {
   "cell_type": "code",
   "execution_count": 209,
   "metadata": {},
   "outputs": [],
   "source": [
    "class1 = class_instances[:,1]"
   ]
  },
  {
   "cell_type": "code",
   "execution_count": 175,
   "metadata": {},
   "outputs": [
    {
     "data": {
      "text/plain": [
       "78"
      ]
     },
     "execution_count": 175,
     "metadata": {},
     "output_type": "execute_result"
    }
   ],
   "source": [
    "num_class1 = np.sum(class1)\n",
    "num_class1\n"
   ]
  },
  {
   "cell_type": "code",
   "execution_count": 213,
   "metadata": {},
   "outputs": [
    {
     "data": {
      "text/plain": [
       "array([ 98,   5,  94,  35,  15,  95,  43,  90,  88,  66,  40,  44,  24,\n",
       "        76,  22,   0,  67,  19, 116,  13, 114,  68,  55,  16,  97,  38,\n",
       "        47,  41,  85,  92,  36,  18,  54,  14,  62,  10, 115,  17,  71,\n",
       "        61,  69,  52,  30, 110,  72,  27,  32,  83,  26, 104,   3,  46,\n",
       "        77, 112,  63,  39,  42, 109,  56, 103,  29,   2,  82,  93,  23,\n",
       "        12,  80, 106, 108, 100,  31,  64,  89,  11,  60,  33,  59,  70,\n",
       "       113,  37,  20,  86, 111,   1,  99, 101, 102, 105, 107,  96,  91,\n",
       "         8,   6,  21,  25,  28,  34,  45,  48,  49,  50,  51,  53,   4,\n",
       "        57,   9,  73,  74,  75,   7,  78,  79,  81,  84,  87,  65,  58], dtype=int64)"
      ]
     },
     "execution_count": 213,
     "metadata": {},
     "output_type": "execute_result"
    }
   ],
   "source": [
    "index = np.argsort(scores, axis=0)\n",
    "index"
   ]
  },
  {
   "cell_type": "code",
   "execution_count": 214,
   "metadata": {},
   "outputs": [
    {
     "data": {
      "text/plain": [
       "array([ 58,  65,  87,  84,  81,  79,  78,   7,  75,  74,  73,   9,  57,\n",
       "         4,  53,  51,  50,  49,  48,  45,  34,  28,  25,  21,   6,   8,\n",
       "        91,  96, 107, 105, 102, 101,  99,   1, 111,  86,  20,  37, 113,\n",
       "        70,  59,  33,  60,  11,  89,  64,  31, 100, 108, 106,  80,  12,\n",
       "        23,  93,  82,   2,  29, 103,  56, 109,  42,  39,  63, 112,  77,\n",
       "        46,   3, 104,  26,  83,  32,  27,  72, 110,  30,  52,  69,  61,\n",
       "        71,  17, 115,  10,  62,  14,  54,  18,  36,  92,  85,  41,  47,\n",
       "        38,  97,  16,  55,  68, 114,  13, 116,  19,  67,   0,  22,  76,\n",
       "        24,  44,  40,  66,  88,  90,  43,  95,  15,  35,  94,   5,  98], dtype=int64)"
      ]
     },
     "execution_count": 214,
     "metadata": {},
     "output_type": "execute_result"
    }
   ],
   "source": [
    "index_inv = index[::-1]\n",
    "index_inv"
   ]
  },
  {
   "cell_type": "code",
   "execution_count": 215,
   "metadata": {},
   "outputs": [
    {
     "data": {
      "text/plain": [
       "array([1, 1, 1, 1, 1, 1, 1, 1, 1, 1, 1, 1, 1, 1, 1, 1, 1, 1, 1, 1, 1, 1, 1,\n",
       "       1, 1, 1, 1, 1, 1, 1, 1, 1, 1, 1, 1, 1, 1, 1, 1, 1, 1, 1, 1, 1, 1, 1,\n",
       "       1, 1, 1, 1, 1, 1, 1, 1, 1, 1, 1, 1, 1, 1, 1, 1, 1, 1, 1, 1, 1, 1, 1,\n",
       "       1, 1, 1, 1, 1, 1, 0, 1, 0, 1, 1, 0, 0, 0, 0, 0, 0, 0, 0, 0, 0, 0, 0,\n",
       "       0, 0, 0, 0, 0, 0, 0, 0, 0, 0, 0, 0, 0, 0, 0, 0, 0, 0, 0, 0, 0, 0, 0,\n",
       "       0, 0], dtype=uint8)"
      ]
     },
     "execution_count": 215,
     "metadata": {},
     "output_type": "execute_result"
    }
   ],
   "source": [
    "sort_class1 = class1[index_inv]\n",
    "sort_class1"
   ]
  },
  {
   "cell_type": "code",
   "execution_count": 216,
   "metadata": {},
   "outputs": [
    {
     "data": {
      "text/plain": [
       "array([ 1,  2,  3,  4,  5,  6,  7,  8,  9, 10, 11, 12, 13, 14, 15, 16, 17,\n",
       "       18, 19, 20, 21, 22, 23, 24, 25, 26, 27, 28, 29, 30, 31, 32, 33, 34,\n",
       "       35, 36, 37, 38, 39, 40, 41, 42, 43, 44, 45, 46, 47, 48, 49, 50, 51,\n",
       "       52, 53, 54, 55, 56, 57, 58, 59, 60, 61, 62, 63, 64, 65, 66, 67, 68,\n",
       "       69, 70, 71, 72, 73, 74, 75, 75, 76, 76, 77, 78, 78, 78, 78, 78, 78,\n",
       "       78, 78, 78, 78, 78, 78, 78, 78, 78, 78, 78, 78, 78, 78, 78, 78, 78,\n",
       "       78, 78, 78, 78, 78, 78, 78, 78, 78, 78, 78, 78, 78, 78, 78], dtype=uint32)"
      ]
     },
     "execution_count": 216,
     "metadata": {},
     "output_type": "execute_result"
    }
   ],
   "source": [
    "cclass1 = np.cumsum(sort_class1)\n",
    "cclass1"
   ]
  },
  {
   "cell_type": "markdown",
   "metadata": {},
   "source": [
    "Here we have the cumulative sum of the correctlly classified target values divided by the total number of observations.\n",
    "This gives us the proportion of how accurate we are on the overall predictions at any point - so for example up to the 13th point we have classified 13/78 correctly or, at the 14th point we have classified correctly 14/78 or 0.1795%, and on up until we do no longer correctly classify, we then either repeat (such as 75 and 76) or reach 78 where we have classified 100% of the correct samples"
   ]
  },
  {
   "cell_type": "code",
   "execution_count": 222,
   "metadata": {},
   "outputs": [
    {
     "data": {
      "text/plain": [
       "array([ 0.01282051,  0.02564103,  0.03846154,  0.05128205,  0.06410256,\n",
       "        0.07692308,  0.08974359,  0.1025641 ,  0.11538462,  0.12820513,\n",
       "        0.14102564,  0.15384615,  0.16666667,  0.17948718,  0.19230769,\n",
       "        0.20512821,  0.21794872,  0.23076923,  0.24358974,  0.25641026,\n",
       "        0.26923077,  0.28205128,  0.29487179,  0.30769231,  0.32051282,\n",
       "        0.33333333,  0.34615385,  0.35897436,  0.37179487,  0.38461538,\n",
       "        0.3974359 ,  0.41025641,  0.42307692,  0.43589744,  0.44871795,\n",
       "        0.46153846,  0.47435897,  0.48717949,  0.5       ,  0.51282051,\n",
       "        0.52564103,  0.53846154,  0.55128205,  0.56410256,  0.57692308,\n",
       "        0.58974359,  0.6025641 ,  0.61538462,  0.62820513,  0.64102564,\n",
       "        0.65384615,  0.66666667,  0.67948718,  0.69230769,  0.70512821,\n",
       "        0.71794872,  0.73076923,  0.74358974,  0.75641026,  0.76923077,\n",
       "        0.78205128,  0.79487179,  0.80769231,  0.82051282,  0.83333333,\n",
       "        0.84615385,  0.85897436,  0.87179487,  0.88461538,  0.8974359 ,\n",
       "        0.91025641,  0.92307692,  0.93589744,  0.94871795,  0.96153846,\n",
       "        0.96153846,  0.97435897,  0.97435897,  0.98717949,  1.        ,\n",
       "        1.        ,  1.        ,  1.        ,  1.        ,  1.        ,\n",
       "        1.        ,  1.        ,  1.        ,  1.        ,  1.        ,\n",
       "        1.        ,  1.        ,  1.        ,  1.        ,  1.        ,\n",
       "        1.        ,  1.        ,  1.        ,  1.        ,  1.        ,\n",
       "        1.        ,  1.        ,  1.        ,  1.        ,  1.        ,\n",
       "        1.        ,  1.        ,  1.        ,  1.        ,  1.        ,\n",
       "        1.        ,  1.        ,  1.        ,  1.        ,  1.        ,\n",
       "        1.        ,  1.        ])"
      ]
     },
     "execution_count": 222,
     "metadata": {},
     "output_type": "execute_result"
    }
   ],
   "source": [
    "cumulative_proportion = np.divide(cclass1, num_class1, dtype=float)\n",
    "cumulative_proportion"
   ]
  },
  {
   "cell_type": "code",
   "execution_count": 218,
   "metadata": {},
   "outputs": [
    {
     "data": {
      "text/plain": [
       "117L"
      ]
     },
     "execution_count": 218,
     "metadata": {},
     "output_type": "execute_result"
    }
   ],
   "source": [
    "n = y_train.shape[0]\n",
    "n"
   ]
  },
  {
   "cell_type": "code",
   "execution_count": 219,
   "metadata": {},
   "outputs": [
    {
     "data": {
      "text/plain": [
       "array([ 0.00854701,  0.01709402,  0.02564103,  0.03418803,  0.04273504,\n",
       "        0.05128205,  0.05982906,  0.06837607,  0.07692308,  0.08547009,\n",
       "        0.09401709,  0.1025641 ,  0.11111111,  0.11965812,  0.12820513,\n",
       "        0.13675214,  0.14529915,  0.15384615,  0.16239316,  0.17094017,\n",
       "        0.17948718,  0.18803419,  0.1965812 ,  0.20512821,  0.21367521,\n",
       "        0.22222222,  0.23076923,  0.23931624,  0.24786325,  0.25641026,\n",
       "        0.26495726,  0.27350427,  0.28205128,  0.29059829,  0.2991453 ,\n",
       "        0.30769231,  0.31623932,  0.32478632,  0.33333333,  0.34188034,\n",
       "        0.35042735,  0.35897436,  0.36752137,  0.37606838,  0.38461538,\n",
       "        0.39316239,  0.4017094 ,  0.41025641,  0.41880342,  0.42735043,\n",
       "        0.43589744,  0.44444444,  0.45299145,  0.46153846,  0.47008547,\n",
       "        0.47863248,  0.48717949,  0.4957265 ,  0.5042735 ,  0.51282051,\n",
       "        0.52136752,  0.52991453,  0.53846154,  0.54700855,  0.55555556,\n",
       "        0.56410256,  0.57264957,  0.58119658,  0.58974359,  0.5982906 ,\n",
       "        0.60683761,  0.61538462,  0.62393162,  0.63247863,  0.64102564,\n",
       "        0.64957265,  0.65811966,  0.66666667,  0.67521368,  0.68376068,\n",
       "        0.69230769,  0.7008547 ,  0.70940171,  0.71794872,  0.72649573,\n",
       "        0.73504274,  0.74358974,  0.75213675,  0.76068376,  0.76923077,\n",
       "        0.77777778,  0.78632479,  0.79487179,  0.8034188 ,  0.81196581,\n",
       "        0.82051282,  0.82905983,  0.83760684,  0.84615385,  0.85470085,\n",
       "        0.86324786,  0.87179487,  0.88034188,  0.88888889,  0.8974359 ,\n",
       "        0.90598291,  0.91452991,  0.92307692,  0.93162393,  0.94017094,\n",
       "        0.94871795,  0.95726496,  0.96581197,  0.97435897,  0.98290598,\n",
       "        0.99145299,  1.        ])"
      ]
     },
     "execution_count": 219,
     "metadata": {},
     "output_type": "execute_result"
    }
   ],
   "source": [
    "targsize = np.arange(1, 118, 1)\n",
    "targsize_percent = np.divide(targsize, n, dtype=float)\n",
    "targsize_percent"
   ]
  },
  {
   "cell_type": "code",
   "execution_count": 228,
   "metadata": {},
   "outputs": [
    {
     "data": {
      "text/plain": [
       "61L"
      ]
     },
     "execution_count": 228,
     "metadata": {},
     "output_type": "execute_result"
    }
   ],
   "source": [
    "y_test.shape[0]"
   ]
  },
  {
   "cell_type": "markdown",
   "metadata": {},
   "source": [
    "##### Using the testing data:"
   ]
  },
  {
   "cell_type": "code",
   "execution_count": 230,
   "metadata": {},
   "outputs": [],
   "source": [
    "probas_test = bfitted.predict_proba(X_test)\n",
    "scores_test = probas_test[:,1]\n",
    "class_instances_test = pd.get_dummies(y_test).as_matrix()\n",
    "class1_test = class_instances_test[:,1]\n",
    "num_class1_test = np.sum(class1_test)\n",
    "index_test = np.argsort(scores_test, axis=0)\n",
    "index_inv_test = index_test[::-1]\n",
    "sort_class1_test = class1_test[index_inv_test]\n",
    "cclass1_test = np.cumsum(sort_class1_test)\n",
    "cumulative_proportion_test = np.divide(cclass1_test, num_class1_test, dtype=float)\n",
    "n_test = y_test.shape[0]\n",
    "targsize_test = np.arange(1, 62, 1)\n",
    "targsize_percent_test = np.divide(targsize_test, n, dtype=float)"
   ]
  },
  {
   "cell_type": "code",
   "execution_count": 238,
   "metadata": {},
   "outputs": [
    {
     "data": {
      "image/png": "[encoded data removed]",
      "text/plain": [
       "<matplotlib.figure.Figure at 0x1f659828>"
      ]
     },
     "metadata": {},
     "output_type": "display_data"
    }
   ],
   "source": [
    "plt.title('Gain Chart')\n",
    "plt.xlabel('Target Sample Size Percentage')\n",
    "plt.ylabel('Target Percentage')\n",
    "\n",
    "plt.plot([0, 1], [0, 1])\n",
    "plt.scatter(targsize_percent_test, targsize_percent_test, marker = '.', color = 'black')\n",
    "plt.scatter(targsize_percent_test, cumulative_proportion_test, marker = '.', color = 'green', label='Test Data')\n",
    "plt.scatter(targsize_percent, targsize_percent, marker = '.', color = 'black')\n",
    "plt.scatter(targsize_percent, cumulative_proportion, marker = '.', color = 'red', label='Training Data')\n",
    "plt.legend()\n",
    "plt.show()"
   ]
  },
  {
   "cell_type": "markdown",
   "metadata": {},
   "source": [
    "From the gain chart, if we want 80% accuracy, we would only need a sample size percentage of around 30%"
   ]
  }
 ],
 "metadata": {
  "kernelspec": {
   "display_name": "Python 2",
   "language": "python",
   "name": "python2"
  },
  "language_info": {
   "codemirror_mode": {
    "name": "ipython",
    "version": 2
   },
   "file_extension": ".py",
   "mimetype": "text/x-python",
   "name": "python",
   "nbconvert_exporter": "python",
   "pygments_lexer": "ipython2",
   "version": "2.7.13"
  }
 },
 "nbformat": 4,
 "nbformat_minor": 2
}
